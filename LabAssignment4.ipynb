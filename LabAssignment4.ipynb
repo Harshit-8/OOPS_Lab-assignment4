{
  "nbformat": 4,
  "nbformat_minor": 0,
  "metadata": {
    "colab": {
      "name": "LabAssignment4.ipynb",
      "provenance": []
    },
    "kernelspec": {
      "name": "python3",
      "display_name": "Python 3"
    },
    "language_info": {
      "name": "python"
    }
  },
  "cells": [
    {
      "cell_type": "code",
      "metadata": {
        "colab": {
          "base_uri": "https://localhost:8080/"
        },
        "id": "xausIxpqcUpj",
        "outputId": "ed031b91-34ae-429c-d471-39eef134ccf7"
      },
      "source": [
        "#PROBLEM 1\n",
        "\n",
        "\n",
        "class Node:\n",
        "    def __init__(self, val, next):\n",
        "        self.value = val\n",
        "        self.next = next\n",
        "\n",
        "    def __del__(self):\n",
        "        print(\"Node having value\", self.value, \" is deleted\")\n",
        "\n",
        "class Stack:\n",
        "    def __init__(self):\n",
        "        self.head = None\n",
        "        self.tail = self.head\n",
        "\n",
        "    def is_empty(self):\n",
        "        return self.head == None and self.tail == None\n",
        "\n",
        "    def push(self, val):\n",
        "        new_node = Node(val, None)\n",
        "        if self.is_empty():\n",
        "            self.head = new_node\n",
        "            self.tail = self.head\n",
        "        else:\n",
        "            self.tail.next = new_node\n",
        "            self.tail = self.tail.next\n",
        "\n",
        "    def pop(self):\n",
        "        iter = self.head\n",
        "        while True:\n",
        "            if iter.next != self.tail:\n",
        "                iter = iter.next\n",
        "            else:\n",
        "                break\n",
        "        val = iter.next.value\n",
        "        del iter.next\n",
        "        iter.next = None\n",
        "        self.tail = iter\n",
        "        return val\n",
        "\n",
        "\n",
        "    def disp(self):\n",
        "        iter = self.head\n",
        "        if not self.is_empty():\n",
        "            while iter!=None:\n",
        "                print(iter.value, end=\" \")\n",
        "                iter = iter.next\n",
        "        else:\n",
        "            print(\"Empty stack\")\n",
        "\n",
        "s = Stack()\n",
        "print(s.is_empty())\n",
        "s.push(1)\n",
        "print(s.is_empty())\n",
        "s.push(2)\n",
        "s.push(3)\n",
        "s.push(4)\n",
        "s.push(5)\n",
        "print(\"popping out:\", s.pop())\n",
        "s.disp()"
      ],
      "execution_count": 14,
      "outputs": [
        {
          "output_type": "stream",
          "name": "stdout",
          "text": [
            "Node having value 1  is deleted\n",
            "Node having value 2  is deleted\n",
            "Node having value 3  is deleted\n",
            "Node having value 4  is deleted\n",
            "True\n",
            "False\n",
            "Node having value 5  is deleted\n",
            "popping out: 5\n",
            "1 2 3 4 "
          ]
        }
      ]
    },
    {
      "cell_type": "code",
      "metadata": {
        "colab": {
          "base_uri": "https://localhost:8080/"
        },
        "id": "X5OIv19jc74U",
        "outputId": "fd6b64b2-bc24-4226-c71c-f2168ba6d663"
      },
      "source": [
        "# PROBLEM 2\n",
        "\n",
        "class Rectangle:\n",
        "  def __init__(self, length = 6, breadth = 4):\n",
        "    self.l = length\n",
        "    self.b = breadth\n",
        "    self.area = self.l*self.b\n",
        "  def area(self):\n",
        "    return self.area\n",
        "\n",
        "rect_1 = Rectangle(9,8)\n",
        "print(\"Area of parameterised constructor is \", rect_1.area)\n",
        "rect_2 = Rectangle()\n",
        "print(\"Area of default constructor is \",rect_2.area)"
      ],
      "execution_count": 5,
      "outputs": [
        {
          "output_type": "stream",
          "name": "stdout",
          "text": [
            "Area of parameterised constructor is  72\n",
            "Area of default constructor is  24\n"
          ]
        }
      ]
    },
    {
      "cell_type": "code",
      "metadata": {
        "colab": {
          "base_uri": "https://localhost:8080/"
        },
        "id": "-80ItrNzdflg",
        "outputId": "2c7efe41-bca7-4150-9a88-e371917767df"
      },
      "source": [
        "#PROBLEM 3\n",
        "\n",
        "\n",
        "class Queue:\n",
        "    def __init__(self):\n",
        "        self.queue = []\n",
        "\n",
        "    def isEmpty(self):\n",
        "        return self.queue == []\n",
        "\n",
        "    def enqueue(self, data):\n",
        "        self.queue.append(data)\n",
        "\n",
        "    def dequeue(self):\n",
        "        return self.queue.pop(0)\n",
        "\n",
        "    def showQueue(self):\n",
        "        print(f\"Queue : {self.queue}\")\n",
        "\n",
        "    \n",
        "q = Queue()\n",
        "for i in range(9):\n",
        "    q.enqueue(i)\n",
        "\n",
        "q.showQueue()\n",
        "\n",
        "for i in range(1, 4):\n",
        "    print(f\"Value Dequeued : {q.dequeue()}\")\n",
        "\n",
        "q.showQueue()"
      ],
      "execution_count": 16,
      "outputs": [
        {
          "output_type": "stream",
          "name": "stdout",
          "text": [
            "Queue : [0, 1, 2, 3, 4, 5, 6, 7, 8]\n",
            "Value Dequeued : 0\n",
            "Value Dequeued : 1\n",
            "Value Dequeued : 2\n",
            "Queue : [3, 4, 5, 6, 7, 8]\n"
          ]
        }
      ]
    },
    {
      "cell_type": "code",
      "metadata": {
        "id": "1t-VZ9hZegfJ"
      },
      "source": [
        ""
      ],
      "execution_count": 8,
      "outputs": []
    }
  ]
}